{
 "cells": [
  {
   "cell_type": "markdown",
   "metadata": {},
   "source": [
    "## Use of Format\n"
   ]
  },
  {
   "cell_type": "code",
   "execution_count": 9,
   "metadata": {},
   "outputs": [
    {
     "name": "stdout",
     "output_type": "stream",
     "text": [
      "I need 4 parcels of 3 pizzas for 1000 rupees. \n"
     ]
    }
   ],
   "source": [
    "num = 4\n",
    "pizzas = 3\n",
    "price = 1000\n",
    "pack = \"I need {} parcels of {} pizzas for {} rupees. \"\n",
    "print(pack.format(num, pizzas,price))"
   ]
  },
  {
   "cell_type": "code",
   "execution_count": 10,
   "metadata": {},
   "outputs": [
    {
     "name": "stdout",
     "output_type": "stream",
     "text": [
      "He is gowda, gowda is 18 years old and gowda is very tall \n"
     ]
    }
   ],
   "source": [
    "name = \"gowda\"\n",
    "age = 18\n",
    "txt = (\"He is {1}, {1} is {0} years old and {1} is very tall \")    # here you can see just by given numbers we can format\n",
    "print(txt.format(age, name))                                       # format(0, 1)    ---> 0 = age and 1 = name"
   ]
  },
  {
   "cell_type": "markdown",
   "metadata": {},
   "source": [
    "## :.2f"
   ]
  },
  {
   "cell_type": "code",
   "execution_count": 11,
   "metadata": {},
   "outputs": [
    {
     "name": "stdout",
     "output_type": "stream",
     "text": [
      "I need 4 parcels of 3 pizzas for 1000.000 rupees. \n"
     ]
    }
   ],
   "source": [
    "num = 4\n",
    "pizzas = 3\n",
    "price = 1000\n",
    "pack = \"I need {} parcels of {} pizzas for {:.3f} rupees. \"    # it gives the number of decimal points u need.\n",
    "print(pack.format(num, pizzas, price))"
   ]
  },
  {
   "cell_type": "markdown",
   "metadata": {},
   "source": [
    "## try and except \n"
   ]
  },
  {
   "cell_type": "code",
   "execution_count": 13,
   "metadata": {},
   "outputs": [
    {
     "name": "stdout",
     "output_type": "stream",
     "text": [
      "an exception occured\n"
     ]
    }
   ],
   "source": [
    "try:                       \n",
    "    print(x)                                  # here because x is not defined\n",
    "except:\n",
    "    print(\"an exception occured\")"
   ]
  },
  {
   "cell_type": "code",
   "execution_count": 15,
   "metadata": {},
   "outputs": [
    {
     "name": "stdout",
     "output_type": "stream",
     "text": [
      "x is not defined\n"
     ]
    }
   ],
   "source": [
    "try:\n",
    "    print(x)\n",
    "except NameError:\n",
    "    print(\"x is not defined\")                        # here its a nameError\n",
    "except:\n",
    "    print(\"something went wrong\")"
   ]
  },
  {
   "cell_type": "code",
   "execution_count": 17,
   "metadata": {},
   "outputs": [
    {
     "name": "stdout",
     "output_type": "stream",
     "text": [
      "Hello\n",
      "Nothing went wrong\n"
     ]
    }
   ],
   "source": [
    "\n",
    "try:\n",
    "  print(\"Hello\")\n",
    "except:                            # here if try works it goes to else part\n",
    "  print(\"Something went wrong\")    # but if try not works it wont goes to else part\n",
    "else:\n",
    "  print(\"Nothing went wrong\")"
   ]
  },
  {
   "cell_type": "code",
   "execution_count": 18,
   "metadata": {},
   "outputs": [
    {
     "name": "stdout",
     "output_type": "stream",
     "text": [
      "something went wrong\n",
      "try and except is done\n"
     ]
    }
   ],
   "source": [
    "try:\n",
    "    print(v)\n",
    "except:\n",
    "    print(\"something went wrong\")      # even if try does work or if it works it gonna print the finnaly operater\n",
    "finally:\n",
    "    print(\"try and except is done\")"
   ]
  },
  {
   "cell_type": "code",
   "execution_count": 2,
   "metadata": {},
   "outputs": [
    {
     "name": "stdout",
     "output_type": "stream",
     "text": [
      "only integers are alowed\n"
     ]
    }
   ],
   "source": [
    "x = \"hello\"\n",
    "if not type(x) is int:  \n",
    "    print(\"only integers are alowed\")"
   ]
  },
  {
   "cell_type": "markdown",
   "metadata": {},
   "source": [
    "# Use of re in python "
   ]
  },
  {
   "cell_type": "code",
   "execution_count": 12,
   "metadata": {},
   "outputs": [
    {
     "name": "stdout",
     "output_type": "stream",
     "text": [
      "['h', 'e', 'd', 'g', 'n', 'h', 'e', 'a', 'd']\n"
     ]
    }
   ],
   "source": [
    "import re\n",
    "\n",
    "txt = \"The dog on the Road\"\n",
    "x = re.findall(\"[a-n]\", txt)             # ALl the elements in lower case between a-n are there\n",
    "print(x)"
   ]
  },
  {
   "cell_type": "code",
   "execution_count": 13,
   "metadata": {},
   "outputs": [
    {
     "name": "stdout",
     "output_type": "stream",
     "text": [
      "['5', '9']\n"
     ]
    }
   ],
   "source": [
    "import re\n",
    "\n",
    "txt = \"That will be 59 dollars\"\n",
    "\n",
    "#Find all digit characters:\n",
    "\n",
    "x = re.findall(\"\\d\", txt)\n",
    "print(x)\n"
   ]
  },
  {
   "cell_type": "code",
   "execution_count": 19,
   "metadata": {},
   "outputs": [
    {
     "name": "stdout",
     "output_type": "stream",
     "text": [
      "['Hello']\n"
     ]
    }
   ],
   "source": [
    "import re\n",
    "txt = \"Hello world\"\n",
    "x = re.findall(\"H.l.o\", txt)         # it gives the missing elements\n",
    "print(x)"
   ]
  },
  {
   "cell_type": "code",
   "execution_count": 21,
   "metadata": {},
   "outputs": [
    {
     "name": "stdout",
     "output_type": "stream",
     "text": [
      "sentence starts with hello\n"
     ]
    }
   ],
   "source": [
    "import re\n",
    "txt = \"hello i'm rahul\"\n",
    "x = re.findall(\"^hello\", txt)                 # ^name will be tell weather it starts with the name or not\n",
    "if x:\n",
    "    print(\"sentence starts with hello\")\n",
    "else:\n",
    "    print(\"Noo match\")"
   ]
  },
  {
   "cell_type": "code",
   "execution_count": 22,
   "metadata": {},
   "outputs": [
    {
     "name": "stdout",
     "output_type": "stream",
     "text": [
      "sentence ends with rahul\n"
     ]
    }
   ],
   "source": [
    "import re\n",
    "txt = \"hello i'm rahul\"\n",
    "x = re.findall(\"rahul$\", txt)                 # name$ will be tell weather it ends with the name or not\n",
    "if x:\n",
    "    print(\"sentence ends with rahul\")\n",
    "else:\n",
    "    print(\"Noo match\")"
   ]
  },
  {
   "cell_type": "code",
   "execution_count": 23,
   "metadata": {},
   "outputs": [
    {
     "name": "stdout",
     "output_type": "stream",
     "text": [
      "['ai', 'ai', 'ai', 'ai']\n",
      "Yes, there is at least one match!\n"
     ]
    }
   ],
   "source": [
    "import re\n",
    "\n",
    "txt = \"The rain in Spain falls mainly in the plain!\"\n",
    "\n",
    "#Check if the string contains \"ai\" followed by 0 or more \"x\" characters:\n",
    "\n",
    "x = re.findall(\"aix*\", txt)                           # here x* will help us to know how many the word has been occured\n",
    "\n",
    "print(x)\n",
    "\n",
    "if x:\n",
    "  print(\"Yes, there is at least one match!\")\n",
    "else:\n",
    "  print(\"No match\")\n"
   ]
  },
  {
   "cell_type": "code",
   "execution_count": 24,
   "metadata": {},
   "outputs": [
    {
     "name": "stdout",
     "output_type": "stream",
     "text": [
      "['all']\n",
      "Yes, there is at least one match!\n"
     ]
    }
   ],
   "source": [
    "import re\n",
    "\n",
    "txt = \"The rain in Spain falls mainly in the plain!\"\n",
    "\n",
    "#Check if the string contains \"a\" followed by exactly two \"l\" characters:\n",
    "\n",
    "x = re.findall(\"al{2}\", txt)           \n",
    "\n",
    "print(x)\n",
    "\n",
    "if x:\n",
    "  print(\"Yes, there is at least one match!\")\n",
    "else:\n",
    "  print(\"No match\")\n"
   ]
  },
  {
   "cell_type": "code",
   "execution_count": 32,
   "metadata": {},
   "outputs": [
    {
     "name": "stdout",
     "output_type": "stream",
     "text": [
      "['T', 'h', 'e', ' ', 'm', 'a', 'n', ' ', 'i', 's', ' ', ' ', 'w', 'a', 'l', 'k', 'i', 'n', 'g']\n",
      "['3', '4']\n"
     ]
    }
   ],
   "source": [
    "# d for digit\n",
    "import re\n",
    "txt = \"The man is 34 walking\"\n",
    "x = re.findall(\"\\D\", txt)                  # \\D gives us non digit numbers in the string\n",
    "y = re.findall(\"\\d\", txt)                   # \\d gives us all the digit in the srings  \n",
    "print(x)\n",
    "print(y)"
   ]
  },
  {
   "cell_type": "code",
   "execution_count": 31,
   "metadata": {},
   "outputs": [
    {
     "name": "stdout",
     "output_type": "stream",
     "text": [
      "['T', 'h', 'e', 'm', 'a', 'n', 'i', 's', '3', '4', 'w', 'a', 'l', 'k', 'i', 'n', 'g']\n",
      "[' ', ' ', ' ', ' ']\n"
     ]
    }
   ],
   "source": [
    "import re\n",
    "txt = \"The man is 34 walking\"\n",
    "x = re.findall(\"\\S\", txt)                  # \\S gives us non whitespaces(strings) in the string\n",
    "y = re.findall(\"\\s\", txt)                   # \\s gives us all the white spaces in the srings  x\n",
    "print(x)\n",
    "print(y)"
   ]
  },
  {
   "cell_type": "code",
   "execution_count": 18,
   "metadata": {},
   "outputs": [
    {
     "data": {
      "text/plain": [
       "['The']"
      ]
     },
     "execution_count": 18,
     "metadata": {},
     "output_type": "execute_result"
    }
   ],
   "source": [
    "# A for start\n",
    "import re\n",
    "txt = \"The man is 34 walking\"\n",
    "x = re.findall(\"\\AThe\", txt)                  # \\A--- tells us weather the string starts with ---string\n",
    "x              "
   ]
  },
  {
   "cell_type": "code",
   "execution_count": 23,
   "metadata": {},
   "outputs": [
    {
     "data": {
      "text/plain": [
       "['ain', 'ain']"
      ]
     },
     "execution_count": 23,
     "metadata": {},
     "output_type": "execute_result"
    }
   ],
   "source": [
    "# b for brgining\n",
    "import re\n",
    "txt = \"the rain in spain is more\"\n",
    "#x = re.findall(r\"\\bain\", txt)                # here it means \"\\b---\" is any word start with ---\n",
    "x = re.findall(r\"ain\\b\", txt)                # here it means (r\"---\\b\")  doe sany word end with ---\n",
    "x                       "
   ]
  },
  {
   "cell_type": "code",
   "execution_count": 30,
   "metadata": {},
   "outputs": [
    {
     "name": "stdout",
     "output_type": "stream",
     "text": [
      "[' ', ' ', ' ', ' ', ' ']\n",
      "['t', 'h', 'e', 'r', 'a', 'i', 'n', 'i', 'n', 's', 'p', 'a', 'i', 'n', 'i', 's', 'm', 'o', 'r', 'e']\n"
     ]
    }
   ],
   "source": [
    "# s for whitespace\n",
    "import re\n",
    "txt = \"the rain in spain is more\"\n",
    "x = re.findall(\"\\s\", txt)                # here \\s means white space \n",
    "y = re.findall(\"\\S\", txt)                # here \\S means where non white space\n",
    "print(x)\n",
    "print(y)"
   ]
  },
  {
   "cell_type": "code",
   "execution_count": 29,
   "metadata": {},
   "outputs": [
    {
     "name": "stdout",
     "output_type": "stream",
     "text": [
      "['T', 'h', 'e', 'r', 'e', 'a', 'r', 'e', '7', 'w', 'o', 'n', 'd', 'e', 'r', 's', 'i', 'n', 't', 'h', 'e', 'w', 'o', 'r', 'l', 'd']\n",
      "[' ', ' ', ' ', ' ', ' ', ' ']\n"
     ]
    }
   ],
   "source": [
    "# w for whole\n",
    "import re\n",
    "txt = \"There are 7 wonders in the world\"\n",
    "x = re.findall(\"\\w\", txt)\n",
    "y = re.findall(\"\\W\", txt)\n",
    "print(x)\n",
    "print(y)"
   ]
  },
  {
   "cell_type": "code",
   "execution_count": 33,
   "metadata": {},
   "outputs": [
    {
     "data": {
      "text/plain": [
       "['you']"
      ]
     },
     "execution_count": 33,
     "metadata": {},
     "output_type": "execute_result"
    }
   ],
   "source": [
    "# Z means end itself\n",
    "import re\n",
    "txt = \"hey how are you\"\n",
    "x = re.findall(\"you\\Z\", txt)            # here \"---\\Z\" means weather it ends with ---\n",
    "x"
   ]
  },
  {
   "cell_type": "code",
   "execution_count": 37,
   "metadata": {},
   "outputs": [
    {
     "data": {
      "text/plain": [
       "['e', 'e', 'a', 'e', 'e', 'e']"
      ]
     },
     "execution_count": 37,
     "metadata": {},
     "output_type": "execute_result"
    }
   ],
   "source": [
    "import re\n",
    "txt = \"There are 7 wonders in the world\"        \n",
    "x = re.findall(\"[aeb]\", txt)                  # it prints the words --- inside it\n",
    "x"
   ]
  },
  {
   "cell_type": "code",
   "execution_count": 39,
   "metadata": {},
   "outputs": [
    {
     "data": {
      "text/plain": [
       "['e', 'e', 'a', 'e', 'd', 'e', 'e', 'd']"
      ]
     },
     "execution_count": 39,
     "metadata": {},
     "output_type": "execute_result"
    }
   ],
   "source": [
    "import re\n",
    "txt = \"There are 7 wonders in the world\"        \n",
    "x = re.findall(\"[a-f]\", txt)                  # it prints the words between [x-y]\n",
    "x"
   ]
  },
  {
   "cell_type": "code",
   "execution_count": 42,
   "metadata": {},
   "outputs": [
    {
     "data": {
      "text/plain": [
       "['T',\n",
       " 'h',\n",
       " 'r',\n",
       " ' ',\n",
       " 'r',\n",
       " ' ',\n",
       " '7',\n",
       " ' ',\n",
       " 'o',\n",
       " 'n',\n",
       " 'd',\n",
       " 'r',\n",
       " 's',\n",
       " ' ',\n",
       " 'i',\n",
       " 'n',\n",
       " ' ',\n",
       " 't',\n",
       " 'h',\n",
       " ' ',\n",
       " 'o',\n",
       " 'r',\n",
       " 'l',\n",
       " 'd']"
      ]
     },
     "execution_count": 42,
     "metadata": {},
     "output_type": "execute_result"
    }
   ],
   "source": [
    "import re\n",
    "txt = \"There are 7 wonders in the world\"        \n",
    "x = re.findall(\"[^aew]\", txt)                  # it prints the words except \"[x-y]\"\n",
    "x"
   ]
  },
  {
   "cell_type": "code",
   "execution_count": 44,
   "metadata": {},
   "outputs": [
    {
     "data": {
      "text/plain": [
       "['7', '4']"
      ]
     },
     "execution_count": 44,
     "metadata": {},
     "output_type": "execute_result"
    }
   ],
   "source": [
    "import re\n",
    "txt = \"There are 7 wonders 4 in the world\"        \n",
    "x = re.findall(\"[457]\", txt)                  # it prints the numbers in [xxx]\n",
    "x"
   ]
  },
  {
   "cell_type": "code",
   "execution_count": 45,
   "metadata": {},
   "outputs": [
    {
     "data": {
      "text/plain": [
       "['7', '4']"
      ]
     },
     "execution_count": 45,
     "metadata": {},
     "output_type": "execute_result"
    }
   ],
   "source": [
    "import re\n",
    "txt = \"There are 7 wonders 4 in the world\"        \n",
    "x = re.findall(\"[0-9]\", txt)                  # it prints all the digits in the strings\n",
    "x"
   ]
  },
  {
   "cell_type": "code",
   "execution_count": 46,
   "metadata": {},
   "outputs": [
    {
     "name": "stdout",
     "output_type": "stream",
     "text": [
      "['11']\n",
      "['11', '45']\n",
      "['11']\n"
     ]
    }
   ],
   "source": [
    "import re\n",
    "txt = \"8 times before 11:45 AM\"\n",
    "x = re.findall(\"[0-3][0-9]\", txt)         # here \"[1st digit][2nd digit]\" of the number\n",
    "y = re.findall(\"[0-5][0-9]\", txt)         \n",
    "z = re.findall(\"[0-7][0-3]\", txt)         \n",
    "print(x)\n",
    "print(y)\n",
    "print(z)"
   ]
  },
  {
   "cell_type": "code",
   "execution_count": 50,
   "metadata": {},
   "outputs": [
    {
     "name": "stdout",
     "output_type": "stream",
     "text": [
      "the answer is 2\n"
     ]
    }
   ],
   "source": [
    "import re\n",
    "txt = \"we are planing for a trip\"\n",
    "x = re.search(\"\\s\", txt)                      # at two position a white is there\n",
    "print('the answer is', x.start())           # you hav to call the funtion as x.start()"
   ]
  },
  {
   "cell_type": "code",
   "execution_count": 51,
   "metadata": {},
   "outputs": [
    {
     "name": "stdout",
     "output_type": "stream",
     "text": [
      "['The r', 'n in Sp', 'n']\n"
     ]
    }
   ],
   "source": [
    "import re\n",
    "\n",
    "#Split the string at every white-space character:\n",
    "\n",
    "txt = \"The rain in Spain\"\n",
    "x = re.split(\"ai\", txt)\n",
    "print(x)\n"
   ]
  },
  {
   "cell_type": "code",
   "execution_count": 52,
   "metadata": {},
   "outputs": [
    {
     "name": "stdout",
     "output_type": "stream",
     "text": [
      "['The', 'rain in Spain']\n"
     ]
    }
   ],
   "source": [
    "import re\n",
    "\n",
    "#Split the string at the first white-space character:\n",
    "\n",
    "txt = \"The rain in Spain\"\n",
    "x = re.split(\"\\s\", txt, 1)\n",
    "print(x)\n"
   ]
  },
  {
   "cell_type": "code",
   "execution_count": 53,
   "metadata": {},
   "outputs": [
    {
     "data": {
      "text/plain": [
       "'What7the7hell'"
      ]
     },
     "execution_count": 53,
     "metadata": {},
     "output_type": "execute_result"
    }
   ],
   "source": [
    "# sub means substitute\n",
    "import re\n",
    "txt = \"What the hell\"     \n",
    "x = re.sub(\"\\s\", \"7\", txt)           # sub gonna substitute the required string\n",
    "x"
   ]
  },
  {
   "cell_type": "code",
   "execution_count": 55,
   "metadata": {},
   "outputs": [
    {
     "data": {
      "text/plain": [
       "'What7the hell'"
      ]
     },
     "execution_count": 55,
     "metadata": {},
     "output_type": "execute_result"
    }
   ],
   "source": [
    "# sub means substitute\n",
    "import re\n",
    "txt = \"What the hell\"     \n",
    "x = re.sub(\"\\s\", \"7\", txt, 1)           # here it changes only at the first whitespace\n",
    "x"
   ]
  },
  {
   "cell_type": "code",
   "execution_count": 60,
   "metadata": {},
   "outputs": [
    {
     "name": "stdout",
     "output_type": "stream",
     "text": [
      "(9, 11)\n",
      "(9, 10)\n"
     ]
    }
   ],
   "source": [
    "import re\n",
    "\n",
    "#Search for an upper case \"S\" character in the beginning of a word, and print its position:\n",
    "\n",
    "txt = \"The rain in Spain\"\n",
    "x = re.search(r\"\\bi\\w+\", txt)     # bi for first i and w+ for the whole word\n",
    "y = re.search(r\"\\bi\", txt)\n",
    "print(x.span())\n",
    "print(y.span())                  # here no w+ so it took onlt the word i not in\n"
   ]
  },
  {
   "cell_type": "code",
   "execution_count": 69,
   "metadata": {},
   "outputs": [
    {
     "name": "stdout",
     "output_type": "stream",
     "text": [
      "The rain in Spain\n"
     ]
    }
   ],
   "source": [
    "# .string will give whole string\n",
    "import re\n",
    "\n",
    "#The string property returns the search string:\n",
    " \n",
    "txt = \"The rain in Spain\"\n",
    "x = re.search(r\"\\bS\\w+\", txt)\n",
    "print(x.string)\n"
   ]
  },
  {
   "cell_type": "code",
   "execution_count": 72,
   "metadata": {},
   "outputs": [
    {
     "name": "stdout",
     "output_type": "stream",
     "text": [
      "Spain\n"
     ]
    }
   ],
   "source": [
    "#  .group will give only the word\n",
    "import re\n",
    "\n",
    "txt = \"The rain in Spain\"\n",
    "x = re.search(r\"\\bS\\w+\", txt)\n",
    "print(x.group())\n"
   ]
  },
  {
   "cell_type": "code",
   "execution_count": null,
   "metadata": {},
   "outputs": [],
   "source": []
  }
 ],
 "metadata": {
  "kernelspec": {
   "display_name": "Python 3",
   "language": "python",
   "name": "python3"
  },
  "language_info": {
   "codemirror_mode": {
    "name": "ipython",
    "version": 3
   },
   "file_extension": ".py",
   "mimetype": "text/x-python",
   "name": "python",
   "nbconvert_exporter": "python",
   "pygments_lexer": "ipython3",
   "version": "3.8.3rc1"
  }
 },
 "nbformat": 4,
 "nbformat_minor": 4
}
