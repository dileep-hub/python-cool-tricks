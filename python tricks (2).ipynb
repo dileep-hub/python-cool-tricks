{
 "cells": [
  {
   "cell_type": "markdown",
   "metadata": {},
   "source": [
    "## Use of split\n"
   ]
  },
  {
   "cell_type": "code",
   "execution_count": 1,
   "metadata": {},
   "outputs": [
    {
     "data": {
      "text/plain": [
       "['python', 'is', 'very', 'easy', 'language']"
      ]
     },
     "execution_count": 1,
     "metadata": {},
     "output_type": "execute_result"
    }
   ],
   "source": [
    "# split actually splits the string into list.\n",
    "txt = \"python is very easy language\"\n",
    "x = txt.split()\n",
    "x"
   ]
  },
  {
   "cell_type": "code",
   "execution_count": 2,
   "metadata": {},
   "outputs": [
    {
     "data": {
      "text/plain": [
       "['python', ' is one of my', ' fav language']"
      ]
     },
     "execution_count": 2,
     "metadata": {},
     "output_type": "execute_result"
    }
   ],
   "source": [
    "# split(\"seperator\") means seperator will seperate the string at the point\n",
    "txt = \"python, is one of my, fav language\"    # \",\"  is seperator\n",
    "x = txt.split(\",\")\n",
    "x"
   ]
  },
  {
   "cell_type": "code",
   "execution_count": 3,
   "metadata": {},
   "outputs": [
    {
     "data": {
      "text/plain": [
       "['dog', 'man', 'cat', 'chat']"
      ]
     },
     "execution_count": 3,
     "metadata": {},
     "output_type": "execute_result"
    }
   ],
   "source": [
    "txt = \"dog%man%cat%chat\"\n",
    "x = txt.split(\"%\")\n",
    "x"
   ]
  },
  {
   "cell_type": "code",
   "execution_count": 7,
   "metadata": {},
   "outputs": [
    {
     "data": {
      "text/plain": [
       "['dog', 'man', 'cat%water%chat']"
      ]
     },
     "execution_count": 7,
     "metadata": {},
     "output_type": "execute_result"
    }
   ],
   "source": [
    "# Even we can fix the max items to be splited by maxsplit\n",
    "# split(seperator, maxsplit)\n",
    "txt = \"dog%man%cat%water%chat\"\n",
    "x = txt.split(\"%\", 2)       # here 1st two are splited\n",
    "x"
   ]
  },
  {
   "cell_type": "markdown",
   "metadata": {},
   "source": [
    "## Use of *"
   ]
  },
  {
   "cell_type": "markdown",
   "metadata": {},
   "source": [
    "### * is an Operator"
   ]
  },
  {
   "cell_type": "code",
   "execution_count": 8,
   "metadata": {},
   "outputs": [
    {
     "name": "stdout",
     "output_type": "stream",
     "text": [
      "addition of two numbers is 11\n"
     ]
    }
   ],
   "source": [
    "# \"*\" aslo plays an imp role in python\n",
    "a, b = 2, 9\n",
    "print(\"addition of two numbers is {}\".format(a+b))     # {} must and should"
   ]
  },
  {
   "cell_type": "code",
   "execution_count": 10,
   "metadata": {},
   "outputs": [
    {
     "name": "stdout",
     "output_type": "stream",
     "text": [
      "[1, 8, 27, 64, 125]\n"
     ]
    }
   ],
   "source": [
    "#2 ----> **\n",
    "cubes = [i**3 for i in range(1,6)]\n",
    "x = []\n",
    "for i in range(len(cubes)):\n",
    "    x.append(cubes[i])\n",
    "print(x)\n"
   ]
  },
  {
   "cell_type": "code",
   "execution_count": 14,
   "metadata": {},
   "outputs": [
    {
     "name": "stdout",
     "output_type": "stream",
     "text": [
      "1 [2, 3, 4, 5]\n",
      "[1, 2, 3, 4] 5\n"
     ]
    }
   ],
   "source": [
    "#3 *x\n",
    "nums = [i for i in range(1, 6)]\n",
    "a, *b = nums\n",
    "print(a,b)\n",
    "*a, b = nums\n",
    "print(a,b)          # *x it considers all the right side elements from it.\n"
   ]
  },
  {
   "cell_type": "code",
   "execution_count": 2,
   "metadata": {},
   "outputs": [
    {
     "name": "stdout",
     "output_type": "stream",
     "text": [
      "1 [2, 3] 4\n"
     ]
    }
   ],
   "source": [
    "nums = [i for i in range(1,5)]\n",
    "a, *b, c = nums\n",
    "print(a,b,c)"
   ]
  },
  {
   "cell_type": "code",
   "execution_count": 4,
   "metadata": {},
   "outputs": [
    {
     "name": "stdout",
     "output_type": "stream",
     "text": [
      "p ['y', 't', 'h', 'o', 'n'] ['html', 'java', 'css']\n"
     ]
    }
   ],
   "source": [
    "# [[*]]\n",
    "language = [\"python\", \"html\", \"java\", \"css\"]\n",
    "[[first_letter, *remaining], *other] = language        # you can see another square bracket inside\n",
    "print(first_letter, remaining, other)"
   ]
  },
  {
   "cell_type": "code",
   "execution_count": 16,
   "metadata": {},
   "outputs": [
    {
     "data": {
      "text/plain": [
       "'Name:-bob year of passing:-2023, age:-18'"
      ]
     },
     "execution_count": 16,
     "metadata": {},
     "output_type": "execute_result"
    }
   ],
   "source": [
    "# Use of \"**\" used to extract elements from dictionary\n",
    "person_dict = {\"name\": \"bob\", \"year_of_graduation\": 2023, \"Age\":18 }\n",
    "person_string = \"Name:-{name} year of passing:-{year_of_graduation}, age:-{Age}\".format(**person_dict)\n",
    "person_string                 "
   ]
  },
  {
   "cell_type": "code",
   "execution_count": 17,
   "metadata": {},
   "outputs": [
    {
     "name": "stdout",
     "output_type": "stream",
     "text": [
      "1, 2, 3, 4, 5, 6\n"
     ]
    }
   ],
   "source": [
    "# use of sep\n",
    "nums = [i for i in range(1,7)]\n",
    "print(*nums, sep = \", \")"
   ]
  },
  {
   "cell_type": "code",
   "execution_count": 28,
   "metadata": {},
   "outputs": [
    {
     "data": {
      "text/plain": [
       "3.4"
      ]
     },
     "execution_count": 28,
     "metadata": {},
     "output_type": "execute_result"
    }
   ],
   "source": [
    "# also we use for packing elements in a function\n",
    "def average(*nums):\n",
    "    return(sum(nums)/len(nums))\n",
    "average(1,2,3,5,6)"
   ]
  },
  {
   "cell_type": "code",
   "execution_count": 29,
   "metadata": {},
   "outputs": [
    {
     "name": "stdout",
     "output_type": "stream",
     "text": [
      "dog {'color': 'brown', 'age': '12', 'wieght': '34'}\n"
     ]
    }
   ],
   "source": [
    "def _objects(name, **properties):\n",
    "    print(name, properties)\n",
    "_objects(\"dog\", color = \"brown\", age = \"12\", wieght = \"34\")"
   ]
  },
  {
   "cell_type": "code",
   "execution_count": 43,
   "metadata": {},
   "outputs": [
    {
     "name": "stdout",
     "output_type": "stream",
     "text": [
      "bike:-ktm --> color:-orange --> price:-200000\n",
      "None\n",
      "bike:-NS --> color:-black --> price:-150000\n",
      "None\n",
      "bike:-NS --> color:-blue --> price:-None\n",
      "None\n"
     ]
    }
   ],
   "source": [
    "def sample(bike, color = None, price = None):\n",
    "    print(\"bike:-{} --> color:-{} --> price:-{}\".format(bike, color, price))\n",
    "print(sample(\"ktm\", \"orange\", 200000))\n",
    "print(sample(\"NS\", price = 150000, color = \"black\")) # the order of keyword is not required if we mention the name\n",
    "print(sample(\"NS\", color = \"blue\"))                 # if we leave it empty then it output is None"
   ]
  },
  {
   "cell_type": "code",
   "execution_count": null,
   "metadata": {},
   "outputs": [],
   "source": []
  }
 ],
 "metadata": {
  "kernelspec": {
   "display_name": "Python 3",
   "language": "python",
   "name": "python3"
  },
  "language_info": {
   "codemirror_mode": {
    "name": "ipython",
    "version": 3
   },
   "file_extension": ".py",
   "mimetype": "text/x-python",
   "name": "python",
   "nbconvert_exporter": "python",
   "pygments_lexer": "ipython3",
   "version": "3.8.3rc1"
  }
 },
 "nbformat": 4,
 "nbformat_minor": 4
}
