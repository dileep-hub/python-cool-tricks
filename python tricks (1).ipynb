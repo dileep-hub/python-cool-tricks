{
 "cells": [
  {
   "cell_type": "markdown",
   "metadata": {},
   "source": [
    "## Use of split\n"
   ]
  },
  {
   "cell_type": "code",
   "execution_count": 1,
   "metadata": {},
   "outputs": [
    {
     "data": {
      "text/plain": [
       "['python', 'is', 'very', 'easy', 'language']"
      ]
     },
     "execution_count": 1,
     "metadata": {},
     "output_type": "execute_result"
    }
   ],
   "source": [
    "# split actually splits the string into list.\n",
    "txt = \"python is very easy language\"\n",
    "x = txt.split()\n",
    "x"
   ]
  },
  {
   "cell_type": "code",
   "execution_count": 2,
   "metadata": {},
   "outputs": [
    {
     "data": {
      "text/plain": [
       "['python', ' is one of my', ' fav language']"
      ]
     },
     "execution_count": 2,
     "metadata": {},
     "output_type": "execute_result"
    }
   ],
   "source": [
    "# split(\"seperator\") means seperator will seperate the string at the point\n",
    "txt = \"python, is one of my, fav language\"    # \",\"  is seperator\n",
    "x = txt.split(\",\")\n",
    "x"
   ]
  },
  {
   "cell_type": "code",
   "execution_count": 3,
   "metadata": {},
   "outputs": [
    {
     "data": {
      "text/plain": [
       "['dog', 'man', 'cat', 'chat']"
      ]
     },
     "execution_count": 3,
     "metadata": {},
     "output_type": "execute_result"
    }
   ],
   "source": [
    "txt = \"dog%man%cat%chat\"\n",
    "x = txt.split(\"%\")\n",
    "x"
   ]
  },
  {
   "cell_type": "code",
   "execution_count": 7,
   "metadata": {},
   "outputs": [
    {
     "data": {
      "text/plain": [
       "['dog', 'man', 'cat%water%chat']"
      ]
     },
     "execution_count": 7,
     "metadata": {},
     "output_type": "execute_result"
    }
   ],
   "source": [
    "# Even we can fix the max items to be splited by maxsplit\n",
    "# split(seperator, maxsplit)\n",
    "txt = \"dog%man%cat%water%chat\"\n",
    "x = txt.split(\"%\", 2)\n",
    "x"
   ]
  },
  {
   "cell_type": "markdown",
   "metadata": {},
   "source": [
    "## Use of *"
   ]
  },
  {
   "cell_type": "markdown",
   "metadata": {},
   "source": [
    "### * is an Operator"
   ]
  },
  {
   "cell_type": "code",
   "execution_count": 8,
   "metadata": {},
   "outputs": [
    {
     "name": "stdout",
     "output_type": "stream",
     "text": [
      "addition of two numbers is 11\n"
     ]
    }
   ],
   "source": [
    "# \"*\" aslo plays an imp role in python\n",
    "a, b = 2, 9\n",
    "print(\"addition of two numbers is {}\".format(a+b))     # {} must and should"
   ]
  },
  {
   "cell_type": "code",
   "execution_count": 10,
   "metadata": {},
   "outputs": [
    {
     "name": "stdout",
     "output_type": "stream",
     "text": [
      "[1, 8, 27, 64, 125]\n"
     ]
    }
   ],
   "source": [
    "#2 ----> **\n",
    "cubes = [i**3 for i in range(1,6)]\n",
    "x = []\n",
    "for i in range(len(cubes)):\n",
    "    x.append(cubes[i])\n",
    "print(x)\n"
   ]
  },
  {
   "cell_type": "code",
   "execution_count": 14,
   "metadata": {},
   "outputs": [
    {
     "name": "stdout",
     "output_type": "stream",
     "text": [
      "1 [2, 3, 4, 5]\n",
      "[1, 2, 3, 4] 5\n"
     ]
    }
   ],
   "source": [
    "#3 \n",
    "nums = [i for i in range(1, 6)]\n",
    "a, *b = nums\n",
    "print(a,b)\n",
    "*a, b = nums\n",
    "print(a,b)          # *x it considers all the right side elements from it.\n"
   ]
  },
  {
   "cell_type": "code",
   "execution_count": null,
   "metadata": {},
   "outputs": [],
   "source": []
  }
 ],
 "metadata": {
  "kernelspec": {
   "display_name": "Python 3",
   "language": "python",
   "name": "python3"
  },
  "language_info": {
   "codemirror_mode": {
    "name": "ipython",
    "version": 3
   },
   "file_extension": ".py",
   "mimetype": "text/x-python",
   "name": "python",
   "nbconvert_exporter": "python",
   "pygments_lexer": "ipython3",
   "version": "3.8.3rc1"
  }
 },
 "nbformat": 4,
 "nbformat_minor": 4
}
